{
  "nbformat": 4,
  "nbformat_minor": 0,
  "metadata": {
    "colab": {
      "name": "冒險22_打造真的可以使用的情意分析",
      "provenance": [],
      "collapsed_sections": [],
      "authorship_tag": "ABX9TyPLp1olUae4kiCaKoVTGyXJ",
      "include_colab_link": true
    },
    "kernelspec": {
      "name": "python3",
      "display_name": "Python 3"
    },
    "language_info": {
      "name": "python"
    }
  },
  "cells": [
    {
      "cell_type": "markdown",
      "metadata": {
        "id": "view-in-github",
        "colab_type": "text"
      },
      "source": [
        "<a href=\"https://colab.research.google.com/github/yenlung/Python-AI-Book/blob/main/%E5%86%92%E9%9A%AA22_%E6%89%93%E9%80%A0%E7%9C%9F%E7%9A%84%E5%8F%AF%E4%BB%A5%E4%BD%BF%E7%94%A8%E7%9A%84%E6%83%85%E6%84%8F%E5%88%86%E6%9E%90.ipynb\" target=\"_parent\"><img src=\"https://colab.research.google.com/assets/colab-badge.svg\" alt=\"Open In Colab\"/></a>"
      ]
    },
    {
      "cell_type": "code",
      "source": [
        "%matplotlib inline\n",
        "\n",
        "import numpy as np\n",
        "import pandas as pd\n",
        "import matplotlib.pyplot as plt"
      ],
      "metadata": {
        "id": "uTA9e8L5yMdB"
      },
      "execution_count": null,
      "outputs": []
    },
    {
      "cell_type": "markdown",
      "source": [
        "### 1. 將存好的模型和訓練權重讀回來用"
      ],
      "metadata": {
        "id": "rzHpgo26x80M"
      }
    },
    {
      "cell_type": "code",
      "metadata": {
        "id": "UkHz6PbACrg-",
        "colab": {
          "base_uri": "https://localhost:8080/"
        },
        "outputId": "e5897b5a-650d-42ab-d9f2-872a92f8ad1f"
      },
      "source": [
        "from google.colab import drive\n",
        "\n",
        "drive.mount('/content/drive')"
      ],
      "execution_count": null,
      "outputs": [
        {
          "output_type": "stream",
          "text": [
            "Mounted at /content/drive\n"
          ],
          "name": "stdout"
        }
      ]
    },
    {
      "cell_type": "code",
      "metadata": {
        "id": "2puuhaa-C0-Q",
        "colab": {
          "base_uri": "https://localhost:8080/"
        },
        "outputId": "b2c97d72-4417-4f62-8a2d-22d40bc78f9b"
      },
      "source": [
        "%cd '/content/drive/My Drive/Colab Notebooks'"
      ],
      "execution_count": null,
      "outputs": [
        {
          "output_type": "stream",
          "text": [
            "/content/drive/My Drive/Colab Notebooks\n"
          ],
          "name": "stdout"
        }
      ]
    },
    {
      "cell_type": "code",
      "source": [
        "from tensorflow.keras.models import model_from_json"
      ],
      "metadata": {
        "id": "c10ToGdUzbnX"
      },
      "execution_count": null,
      "outputs": []
    },
    {
      "cell_type": "code",
      "source": [
        "model = model_from_json(open('imdb_model_architecture.json').read())\n",
        "model.load_weights('imdb_model_weights.h5')"
      ],
      "metadata": {
        "id": "k8Jj5hlyzfEi"
      },
      "execution_count": null,
      "outputs": []
    },
    {
      "cell_type": "code",
      "source": [
        "model.compile(loss='binary_crossentropy',\n",
        "             optimizer='adam',\n",
        "             metrics=['accuracy'])"
      ],
      "metadata": {
        "id": "tU1p7o8hz3Tx"
      },
      "execution_count": null,
      "outputs": []
    },
    {
      "cell_type": "code",
      "metadata": {
        "id": "vKwxPjN6-veq",
        "colab": {
          "base_uri": "https://localhost:8080/"
        },
        "outputId": "f3d02e97-00d9-4916-c46b-9bd25ec72dc8"
      },
      "source": [
        "model.summary()"
      ],
      "execution_count": null,
      "outputs": [
        {
          "output_type": "stream",
          "name": "stdout",
          "text": [
            "Model: \"sequential\"\n",
            "_________________________________________________________________\n",
            " Layer (type)                Output Shape              Param #   \n",
            "=================================================================\n",
            " embedding (Embedding)       (None, None, 128)         1280000   \n",
            "                                                                 \n",
            " lstm (LSTM)                 (None, 128)               131584    \n",
            "                                                                 \n",
            " dense (Dense)               (None, 1)                 129       \n",
            "                                                                 \n",
            "=================================================================\n",
            "Total params: 1,411,713\n",
            "Trainable params: 1,411,713\n",
            "Non-trainable params: 0\n",
            "_________________________________________________________________\n"
          ]
        }
      ]
    },
    {
      "cell_type": "markdown",
      "metadata": {
        "id": "qQ9uuTiji5ya"
      },
      "source": [
        "### 2. 測試模型"
      ]
    },
    {
      "cell_type": "code",
      "metadata": {
        "id": "xt-JiZyljijE"
      },
      "source": [
        "from tensorflow.keras.datasets.imdb import get_word_index"
      ],
      "execution_count": null,
      "outputs": []
    },
    {
      "cell_type": "code",
      "metadata": {
        "id": "zPemkM0tj02R",
        "colab": {
          "base_uri": "https://localhost:8080/"
        },
        "outputId": "6effb858-b5f6-4d68-845a-b933cdb006b5"
      },
      "source": [
        "word_index = get_word_index()"
      ],
      "execution_count": null,
      "outputs": [
        {
          "output_type": "stream",
          "name": "stdout",
          "text": [
            "Downloading data from https://storage.googleapis.com/tensorflow/tf-keras-datasets/imdb_word_index.json\n",
            "1646592/1641221 [==============================] - 0s 0us/step\n",
            "1654784/1641221 [==============================] - 0s 0us/step\n"
          ]
        }
      ]
    },
    {
      "cell_type": "code",
      "metadata": {
        "id": "J1P-xWqckJLQ",
        "outputId": "c0a3ee0b-aef9-4a70-8deb-82d05aaf1233",
        "colab": {
          "base_uri": "https://localhost:8080/"
        }
      },
      "source": [
        "word_index['this']"
      ],
      "execution_count": null,
      "outputs": [
        {
          "output_type": "execute_result",
          "data": {
            "text/plain": [
              "11"
            ]
          },
          "metadata": {},
          "execution_count": 6
        }
      ]
    },
    {
      "cell_type": "code",
      "metadata": {
        "id": "F5SAz0wikLFt"
      },
      "source": [
        "text = \"this movie is worth seeing\""
      ],
      "execution_count": null,
      "outputs": []
    },
    {
      "cell_type": "code",
      "source": [
        "text.split()"
      ],
      "metadata": {
        "id": "gMSu7AglscDn",
        "colab": {
          "base_uri": "https://localhost:8080/"
        },
        "outputId": "82030d48-84af-4daa-d570-f1adb5ddb911"
      },
      "execution_count": null,
      "outputs": [
        {
          "output_type": "execute_result",
          "data": {
            "text/plain": [
              "['this', 'movie', 'is', 'worth', 'seeing']"
            ]
          },
          "metadata": {},
          "execution_count": 3
        }
      ]
    },
    {
      "cell_type": "code",
      "metadata": {
        "id": "gyQfVVTekgJd"
      },
      "source": [
        "seq = [word_index[x] for x in text.split()]"
      ],
      "execution_count": null,
      "outputs": []
    },
    {
      "cell_type": "code",
      "source": [
        "seq"
      ],
      "metadata": {
        "colab": {
          "base_uri": "https://localhost:8080/"
        },
        "id": "YvpzBRoq8hkF",
        "outputId": "96d15594-8f1d-4513-bed9-97ffcb06ca6e"
      },
      "execution_count": null,
      "outputs": [
        {
          "output_type": "execute_result",
          "data": {
            "text/plain": [
              "[11, 17, 6, 287, 316]"
            ]
          },
          "metadata": {},
          "execution_count": 8
        }
      ]
    },
    {
      "cell_type": "code",
      "metadata": {
        "id": "ZiqL9mE_kulv",
        "outputId": "4d81e797-7970-487a-9fb8-2845bf235802",
        "colab": {
          "base_uri": "https://localhost:8080/"
        }
      },
      "source": [
        "model.predict([seq])"
      ],
      "execution_count": null,
      "outputs": [
        {
          "output_type": "execute_result",
          "data": {
            "text/plain": [
              "array([[0.98741376]], dtype=float32)"
            ]
          },
          "metadata": {
            "tags": []
          },
          "execution_count": 23
        }
      ]
    },
    {
      "cell_type": "markdown",
      "source": [
        "### 3. 輸入我們自己的評論"
      ],
      "metadata": {
        "id": "xxcGFHL55xOk"
      }
    },
    {
      "cell_type": "code",
      "metadata": {
        "id": "iV3i05AOk-iI"
      },
      "source": [
        "text = \"could of been so much better if properly cast directed and a better script\""
      ],
      "execution_count": null,
      "outputs": []
    },
    {
      "cell_type": "code",
      "metadata": {
        "id": "1qJd1ZRom_QY"
      },
      "source": [
        "seq = [word_index[x] for x in text.split()]"
      ],
      "execution_count": null,
      "outputs": []
    },
    {
      "cell_type": "code",
      "metadata": {
        "id": "GgMNjvVSnB5J",
        "outputId": "13110bc3-bd96-4c40-ff9f-9c4dfec49c83",
        "colab": {
          "base_uri": "https://localhost:8080/"
        }
      },
      "source": [
        "model.predict([seq])"
      ],
      "execution_count": null,
      "outputs": [
        {
          "output_type": "execute_result",
          "data": {
            "text/plain": [
              "array([[0.9204154]], dtype=float32)"
            ]
          },
          "metadata": {
            "tags": []
          },
          "execution_count": 26
        }
      ]
    },
    {
      "cell_type": "markdown",
      "source": [
        "### 4. 用 Gradio 打造情意分析 Web App"
      ],
      "metadata": {
        "id": "QnBLFXZ8r_mb"
      }
    },
    {
      "cell_type": "code",
      "source": [
        "# 在自己的電腦上就不需要再安裝一次了\n",
        "!pip install gradio"
      ],
      "metadata": {
        "id": "Z0vbS_4WgnIx"
      },
      "execution_count": null,
      "outputs": []
    },
    {
      "cell_type": "code",
      "source": [
        "import gradio as gr"
      ],
      "metadata": {
        "id": "hcRAIveDsAiD"
      },
      "execution_count": null,
      "outputs": []
    },
    {
      "cell_type": "code",
      "source": [
        "def imdb_score(text):\n",
        "    seq = [word_index[x] for x in text.split()]\n",
        "    score = model.predict([seq])[0][0]\n",
        "    return score"
      ],
      "metadata": {
        "id": "GPRU1Jiks-XR"
      },
      "execution_count": null,
      "outputs": []
    },
    {
      "cell_type": "code",
      "source": [
        "iface = gr.Interface(imdb_score, inputs=\"text\", outputs=\"number\",\n",
        "            title=\"IMDb情意分析\")"
      ],
      "metadata": {
        "id": "2O7NxPhSsAcU"
      },
      "execution_count": null,
      "outputs": []
    },
    {
      "cell_type": "code",
      "source": [
        "iface.launch()"
      ],
      "metadata": {
        "id": "KevlgwtVuo_A"
      },
      "execution_count": null,
      "outputs": []
    },
    {
      "cell_type": "code",
      "source": [
        "# 在自己的電腦上記得要設定share=True，這樣別人才看得到\n",
        "# iface.launch(share=True)"
      ],
      "metadata": {
        "id": "hoE9M2I-twQZ"
      },
      "execution_count": null,
      "outputs": []
    }
  ]
}