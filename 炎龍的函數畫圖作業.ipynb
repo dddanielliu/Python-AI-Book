{
  "nbformat": 4,
  "nbformat_minor": 0,
  "metadata": {
    "colab": {
      "provenance": [],
      "authorship_tag": "ABX9TyOZHn6gchY3Yvlbr2HIKkQO",
      "include_colab_link": true
    },
    "kernelspec": {
      "name": "python3",
      "display_name": "Python 3"
    },
    "language_info": {
      "name": "python"
    }
  },
  "cells": [
    {
      "cell_type": "markdown",
      "metadata": {
        "id": "view-in-github",
        "colab_type": "text"
      },
      "source": [
        "<a href=\"https://colab.research.google.com/github/dddanielliu/Python-AI-Book/blob/main/%E7%82%8E%E9%BE%8D%E7%9A%84%E5%87%BD%E6%95%B8%E7%95%AB%E5%9C%96%E4%BD%9C%E6%A5%AD.ipynb\" target=\"_parent\"><img src=\"https://colab.research.google.com/assets/colab-badge.svg\" alt=\"Open In Colab\"/></a>"
      ]
    },
    {
      "cell_type": "code",
      "execution_count": null,
      "metadata": {
        "id": "uZjrZ_xaKPEt"
      },
      "outputs": [],
      "source": [
        "%matplotlib inline\n",
        "\n",
        "import numpy as np\n",
        "import pandas as pd\n",
        "import matplotlib.pyplot as plt\n",
        "asdf"
      ]
    },
    {
      "cell_type": "markdown",
      "source": [
        "畫函數的圖形。\n",
        "\n",
        "$f(x)=log(x)$"
      ],
      "metadata": {
        "id": "x0FN4MDLLgiY"
      }
    },
    {
      "cell_type": "code",
      "source": [
        "a = np.linepace(0.5,2, )"
      ],
      "metadata": {
        "id": "bGJx4PLKLt11"
      },
      "execution_count": null,
      "outputs": []
    }
  ]
}