{
  "nbformat": 4,
  "nbformat_minor": 0,
  "metadata": {
    "colab": {
      "name": "colab02d 遷移式學習打造狗貓辨識器.ipynb",
      "provenance": [],
      "collapsed_sections": [],
      "mount_file_id": "1lnllwk9Fdbf1np9454vtZhfwlwDZQ36I",
      "authorship_tag": "ABX9TyMM92yj8LhOXa4BrUSuFN/8",
      "include_colab_link": true
    },
    "kernelspec": {
      "display_name": "Python 3",
      "name": "python3"
    },
    "language_info": {
      "name": "python"
    },
    "accelerator": "GPU"
  },
  "cells": [
    {
      "cell_type": "markdown",
      "metadata": {
        "id": "view-in-github",
        "colab_type": "text"
      },
      "source": [
        "<a href=\"https://colab.research.google.com/github/yenlung/Deep-Learning-Basics/blob/master/colab02d%20%E9%81%B7%E7%A7%BB%E5%BC%8F%E5%AD%B8%E7%BF%92%E6%89%93%E9%80%A0%E7%8B%97%E8%B2%93%E8%BE%A8%E8%AD%98%E5%99%A8.ipynb\" target=\"_parent\"><img src=\"https://colab.research.google.com/assets/colab-badge.svg\" alt=\"Open In Colab\"/></a>"
      ]
    },
    {
      "cell_type": "markdown",
      "metadata": {
        "id": "HZoyLFFnzCOu"
      },
      "source": [
        "我們試著用比較多的照片來做遷移式學習, 看是否有較好的效果。這其實也是一種示範, 看我們如果收集到了一些照片, 怎麼樣整理就能做成訓練資料。"
      ]
    },
    {
      "cell_type": "code",
      "metadata": {
        "id": "rRwACr7ec5WD"
      },
      "source": [
        "%matplotlib inline\n",
        "\n",
        "import numpy as np\n",
        "import pandas as pd\n",
        "import matplotlib.pyplot as plt"
      ],
      "execution_count": 1,
      "outputs": []
    },
    {
      "cell_type": "markdown",
      "metadata": {
        "id": "oiOOpBz5z6DV"
      },
      "source": [
        "### 1. 讀入函式及貓狗資料\n",
        "\n",
        "這裡是由 Google 整理的[狗貓辨識資料](https://colab.research.google.com/github/google/eng-edu/blob/master/ml/pc/exercises/image_classification_part1.ipynb#scrollTo=MLZKVtE0dSfk)讀入, 我們只會用原本準備好的測試資料, 貓狗各 500 張照片。"
      ]
    },
    {
      "cell_type": "code",
      "metadata": {
        "id": "itBV0Zgbd03i"
      },
      "source": [
        "from tensorflow.keras.preprocessing.image import load_img, img_to_array\n",
        "from tensorflow.keras.applications import ResNet50V2\n",
        "from tensorflow.keras.applications.resnet_v2 import preprocess_input\n",
        "from tensorflow.keras.models import Sequential\n",
        "from tensorflow.keras.layers import Dense"
      ],
      "execution_count": 2,
      "outputs": []
    },
    {
      "cell_type": "markdown",
      "metadata": {
        "id": "JqgbGFCM07_l"
      },
      "source": [
        "從網路讀入一個 `.zip` 檔, 存到我們 Colab 開給我們的 `/content` 資料夾下。"
      ]
    },
    {
      "cell_type": "code",
      "metadata": {
        "colab": {
          "base_uri": "https://localhost:8080/"
        },
        "id": "24-kWHVHfhjx",
        "outputId": "7d01d9f5-d7c2-477a-97db-e4084b5d0566"
      },
      "source": [
        "!wget --no-check-certificate \\\n",
        "    https://storage.googleapis.com/mledu-datasets/cats_and_dogs_filtered.zip \\\n",
        "    -O /content/cats_and_dogs_filtered.zip"
      ],
      "execution_count": 3,
      "outputs": [
        {
          "output_type": "stream",
          "text": [
            "--2021-08-05 22:28:12--  https://storage.googleapis.com/mledu-datasets/cats_and_dogs_filtered.zip\n",
            "Resolving storage.googleapis.com (storage.googleapis.com)... 142.251.2.128, 142.250.141.128, 2607:f8b0:4023:c0b::80, ...\n",
            "Connecting to storage.googleapis.com (storage.googleapis.com)|142.251.2.128|:443... connected.\n",
            "HTTP request sent, awaiting response... 200 OK\n",
            "Length: 68606236 (65M) [application/zip]\n",
            "Saving to: ‘/content/cats_and_dogs_filtered.zip’\n",
            "\n",
            "/content/cats_and_d 100%[===================>]  65.43M   255MB/s    in 0.3s    \n",
            "\n",
            "2021-08-05 22:28:12 (255 MB/s) - ‘/content/cats_and_dogs_filtered.zip’ saved [68606236/68606236]\n",
            "\n"
          ],
          "name": "stdout"
        }
      ]
    },
    {
      "cell_type": "markdown",
      "metadata": {
        "id": "6fFgc-bc1SQ2"
      },
      "source": [
        "這裡示範 `.zip` 檔解壓縮, 解壓縮一樣放到我們的 `/content` 資料夾中。"
      ]
    },
    {
      "cell_type": "code",
      "metadata": {
        "id": "0d6-sMkHfiYM"
      },
      "source": [
        "import os\n",
        "import zipfile\n",
        "\n",
        "local_zip = '/content/cats_and_dogs_filtered.zip'\n",
        "zip_ref = zipfile.ZipFile(local_zip, 'r')\n",
        "zip_ref.extractall('/content')\n",
        "zip_ref.close()"
      ],
      "execution_count": 4,
      "outputs": []
    },
    {
      "cell_type": "markdown",
      "metadata": {
        "id": "Kbc0isKD1tr7"
      },
      "source": [
        "這時在 `/content/cats_and_dogs_filtered/validation/cats` 下有 500 張貓照片, 所以我們把這個路徑記下來叫 `cats_dir`。同理我們也把狗照片路徑記下來, 叫 `dogs_dir`。"
      ]
    },
    {
      "cell_type": "code",
      "metadata": {
        "id": "nUu9KNuagjyf"
      },
      "source": [
        "base_dir = '/content/cats_and_dogs_filtered/validation'"
      ],
      "execution_count": 5,
      "outputs": []
    },
    {
      "cell_type": "code",
      "metadata": {
        "id": "Se6uyhkAhD9p"
      },
      "source": [
        "cats_dir = base_dir + '/cats'\n",
        "dogs_dir = base_dir + '/dogs'"
      ],
      "execution_count": 6,
      "outputs": []
    },
    {
      "cell_type": "markdown",
      "metadata": {
        "id": "tsoGPwIC2X8W"
      },
      "source": [
        "貓狗照片的檔案名稱, 分別放入 `cat_fnames` 和 `dog_fnames` 兩個串列中。"
      ]
    },
    {
      "cell_type": "code",
      "metadata": {
        "id": "amvirHf7hWq3"
      },
      "source": [
        "cat_fnames = os.listdir(cats_dir)\n",
        "dog_fnames = os.listdir(dogs_dir)"
      ],
      "execution_count": 7,
      "outputs": []
    },
    {
      "cell_type": "markdown",
      "metadata": {
        "id": "Rrw54vm32PYq"
      },
      "source": [
        "### 2. 準備好輸入輸出\n",
        "\n",
        "現在 `data` 會放入我們轉成 `array` 的照片, 而 `target` 會是答案: 0 是貓, 狗是 1。"
      ]
    },
    {
      "cell_type": "code",
      "metadata": {
        "id": "QA_w4O48hiZ-"
      },
      "source": [
        "data = []\n",
        "target = []\n",
        "\n",
        "for cat in cat_fnames:\n",
        "    img = load_img(cats_dir + '/' + cat, target_size = (224,224))\n",
        "    x = np.array(img)\n",
        "    data.append(x)\n",
        "    target.append(0)\n",
        "for dog in dog_fnames:\n",
        "    img = load_img(dogs_dir + '/' + dog, target_size = (224,224))\n",
        "    x = np.array(img)\n",
        "    data.append(x)\n",
        "    target.append(1) "
      ],
      "execution_count": 8,
      "outputs": []
    },
    {
      "cell_type": "code",
      "metadata": {
        "id": "drrbUq-jhkJi"
      },
      "source": [
        "data = np.array(data)\n",
        "target = np.array(target)"
      ],
      "execution_count": 9,
      "outputs": []
    },
    {
      "cell_type": "markdown",
      "metadata": {
        "id": "xXpmi-Km2490"
      },
      "source": [
        "看看 `data` 的 `shape`, 會發現有 1,000 張 224x224x3 的照片。"
      ]
    },
    {
      "cell_type": "code",
      "metadata": {
        "colab": {
          "base_uri": "https://localhost:8080/"
        },
        "id": "ocIuOzoF3HQ2",
        "outputId": "df6b9a53-e084-43ae-ee97-b393e6ac9d34"
      },
      "source": [
        "data.shape"
      ],
      "execution_count": 10,
      "outputs": [
        {
          "output_type": "execute_result",
          "data": {
            "text/plain": [
              "(1000, 224, 224, 3)"
            ]
          },
          "metadata": {
            "tags": []
          },
          "execution_count": 10
        }
      ]
    },
    {
      "cell_type": "markdown",
      "metadata": {
        "id": "6u7laynA3I8e"
      },
      "source": [
        "`target` 自然是有 1,000 個正確答案 (貓或狗)。"
      ]
    },
    {
      "cell_type": "code",
      "metadata": {
        "colab": {
          "base_uri": "https://localhost:8080/"
        },
        "id": "-RdwMI1hk8L_",
        "outputId": "4f6f3c85-9ce2-43d8-90f5-0d11379850de"
      },
      "source": [
        "target.shape"
      ],
      "execution_count": 11,
      "outputs": [
        {
          "output_type": "execute_result",
          "data": {
            "text/plain": [
              "(1000,)"
            ]
          },
          "metadata": {
            "tags": []
          },
          "execution_count": 11
        }
      ]
    },
    {
      "cell_type": "markdown",
      "metadata": {
        "id": "swEbfSjB3dcG"
      },
      "source": [
        "最後我們進行 ResNet50 的標準預處理動作。"
      ]
    },
    {
      "cell_type": "code",
      "metadata": {
        "id": "t5BfxzyvlAx5"
      },
      "source": [
        "data = preprocess_input(data)"
      ],
      "execution_count": 12,
      "outputs": []
    },
    {
      "cell_type": "markdown",
      "metadata": {
        "id": "6HezWM5N3nEI"
      },
      "source": [
        "### 3. 切訓練和測試資料\n",
        "\n",
        "使用 `scikit-learn` 最常被用到的指令 `train_test_split` 切訓練和測試資料。"
      ]
    },
    {
      "cell_type": "code",
      "metadata": {
        "id": "K4ar83bBli72"
      },
      "source": [
        "from sklearn.model_selection import train_test_split"
      ],
      "execution_count": 13,
      "outputs": []
    },
    {
      "cell_type": "code",
      "metadata": {
        "id": "koV6KcXllpkp"
      },
      "source": [
        "x_train, x_test, y_train, y_test = train_test_split(data, target,\n",
        "                                                    test_size=0.2,\n",
        "                                                    random_state=0)"
      ],
      "execution_count": 14,
      "outputs": []
    },
    {
      "cell_type": "markdown",
      "metadata": {
        "id": "2L7fcGGv3-B5"
      },
      "source": [
        "### 4. Step 01: 打造我們的函數學習機\n",
        "\n",
        "我們讀入 `ResNet50V2`, 並且去掉後面, 然後做 Global Average Pooling。注意我們讀進來 `resnet` 的權重要凍結。\n",
        "\n",
        "最後因為我們只有兩類, 所以輸出就是一個數字! 為了確保輸出在 0 到 1 中間, 用 sigmoid 函數當我們的 activation function。"
      ]
    },
    {
      "cell_type": "code",
      "metadata": {
        "id": "-0Hf4N1fmDn-",
        "colab": {
          "base_uri": "https://localhost:8080/"
        },
        "outputId": "764eb682-daf6-4889-80b0-b904e332d907"
      },
      "source": [
        "resnet = ResNet50V2(include_top=False, pooling=\"avg\")"
      ],
      "execution_count": 15,
      "outputs": [
        {
          "output_type": "stream",
          "text": [
            "Downloading data from https://storage.googleapis.com/tensorflow/keras-applications/resnet/resnet50v2_weights_tf_dim_ordering_tf_kernels_notop.h5\n",
            "94674944/94668760 [==============================] - 1s 0us/step\n"
          ],
          "name": "stdout"
        }
      ]
    },
    {
      "cell_type": "code",
      "metadata": {
        "id": "aZv2cvYXmPhp"
      },
      "source": [
        "resnet.trainable = False"
      ],
      "execution_count": 16,
      "outputs": []
    },
    {
      "cell_type": "code",
      "metadata": {
        "id": "EKHsxAkzmSAz"
      },
      "source": [
        "model = Sequential()"
      ],
      "execution_count": 17,
      "outputs": []
    },
    {
      "cell_type": "code",
      "metadata": {
        "id": "If3BRn-jmZyD"
      },
      "source": [
        "model.add(resnet)"
      ],
      "execution_count": 18,
      "outputs": []
    },
    {
      "cell_type": "code",
      "metadata": {
        "id": "ZSUtKaNBmb4v"
      },
      "source": [
        "model.add(Dense(1, activation='sigmoid'))"
      ],
      "execution_count": 19,
      "outputs": []
    },
    {
      "cell_type": "markdown",
      "metadata": {
        "id": "Bh0Iawwz40Zt"
      },
      "source": [
        "我們只有兩個類別, 所以用 `binary_crossentropy`。"
      ]
    },
    {
      "cell_type": "code",
      "metadata": {
        "id": "qH9c2rj-mgP4"
      },
      "source": [
        "model.compile(loss='binary_crossentropy', \n",
        "              optimizer='adam', \n",
        "              metrics=['accuracy'])"
      ],
      "execution_count": 20,
      "outputs": []
    },
    {
      "cell_type": "markdown",
      "metadata": {
        "id": "Kl8YTCPs47-8"
      },
      "source": [
        "欣賞一下我們的成果。"
      ]
    },
    {
      "cell_type": "code",
      "metadata": {
        "colab": {
          "base_uri": "https://localhost:8080/"
        },
        "id": "mMcX-fUjmn6Q",
        "outputId": "e46006e6-314f-4cdb-d3d8-79ffdce1fc88"
      },
      "source": [
        "model.summary()"
      ],
      "execution_count": 21,
      "outputs": [
        {
          "output_type": "stream",
          "text": [
            "Model: \"sequential\"\n",
            "_________________________________________________________________\n",
            "Layer (type)                 Output Shape              Param #   \n",
            "=================================================================\n",
            "resnet50v2 (Functional)      (None, 2048)              23564800  \n",
            "_________________________________________________________________\n",
            "dense (Dense)                (None, 1)                 2049      \n",
            "=================================================================\n",
            "Total params: 23,566,849\n",
            "Trainable params: 2,049\n",
            "Non-trainable params: 23,564,800\n",
            "_________________________________________________________________\n"
          ],
          "name": "stdout"
        }
      ]
    },
    {
      "cell_type": "markdown",
      "metadata": {
        "id": "dP-XmwCg5JlM"
      },
      "source": [
        "### 5. Step 02: 訓練"
      ]
    },
    {
      "cell_type": "code",
      "metadata": {
        "colab": {
          "base_uri": "https://localhost:8080/"
        },
        "id": "RaPT5lRCmqc_",
        "outputId": "a0553516-9a3f-4f3f-ced2-f7ac0d73bebe"
      },
      "source": [
        "model.fit(x_train, y_train, batch_size=128, epochs=5)"
      ],
      "execution_count": 22,
      "outputs": [
        {
          "output_type": "stream",
          "text": [
            "Epoch 1/5\n",
            "7/7 [==============================] - 38s 457ms/step - loss: 0.4688 - accuracy: 0.7862\n",
            "Epoch 2/5\n",
            "7/7 [==============================] - 2s 297ms/step - loss: 0.1920 - accuracy: 0.9513\n",
            "Epoch 3/5\n",
            "7/7 [==============================] - 2s 295ms/step - loss: 0.1002 - accuracy: 0.9837\n",
            "Epoch 4/5\n",
            "7/7 [==============================] - 2s 302ms/step - loss: 0.0662 - accuracy: 0.9887\n",
            "Epoch 5/5\n",
            "7/7 [==============================] - 2s 301ms/step - loss: 0.0509 - accuracy: 0.9925\n"
          ],
          "name": "stdout"
        },
        {
          "output_type": "execute_result",
          "data": {
            "text/plain": [
              "<tensorflow.python.keras.callbacks.History at 0x7fc1760b4c90>"
            ]
          },
          "metadata": {
            "tags": []
          },
          "execution_count": 22
        }
      ]
    },
    {
      "cell_type": "code",
      "metadata": {
        "colab": {
          "base_uri": "https://localhost:8080/"
        },
        "id": "7VYM17ZNm64D",
        "outputId": "02071394-1e9b-43a2-e393-383a663287a7"
      },
      "source": [
        "loss, acc = model.evaluate(x_test, y_test)\n",
        "print(f\"測試資料的 loss 為: {loss:.4f}\")\n",
        "print(f\"測試資料的正確率為: {acc*100:.2f}%\")"
      ],
      "execution_count": 23,
      "outputs": [
        {
          "output_type": "stream",
          "text": [
            "7/7 [==============================] - 2s 183ms/step - loss: 0.0640 - accuracy: 0.9800\n",
            "測試資料的 loss 為: 0.0640\n",
            "測試資料的正確率為: 98.00%\n"
          ],
          "name": "stdout"
        }
      ]
    },
    {
      "cell_type": "code",
      "metadata": {
        "colab": {
          "base_uri": "https://localhost:8080/"
        },
        "id": "EFbYifVmqUg4",
        "outputId": "45f7fc6b-9004-4604-9dde-f39262f249c0"
      },
      "source": [
        "!pip install gradio"
      ],
      "execution_count": 24,
      "outputs": [
        {
          "output_type": "stream",
          "text": [
            "Collecting gradio\n",
            "  Downloading gradio-2.2.7-py3-none-any.whl (2.1 MB)\n",
            "\u001b[K     |████████████████████████████████| 2.1 MB 9.7 MB/s \n",
            "\u001b[?25hCollecting Flask-Login\n",
            "  Downloading Flask_Login-0.5.0-py2.py3-none-any.whl (16 kB)\n",
            "Requirement already satisfied: pillow in /usr/local/lib/python3.7/dist-packages (from gradio) (7.1.2)\n",
            "Requirement already satisfied: scipy in /usr/local/lib/python3.7/dist-packages (from gradio) (1.4.1)\n",
            "Requirement already satisfied: pandas in /usr/local/lib/python3.7/dist-packages (from gradio) (1.1.5)\n",
            "Collecting pycryptodome\n",
            "  Downloading pycryptodome-3.10.1-cp35-abi3-manylinux2010_x86_64.whl (1.9 MB)\n",
            "\u001b[K     |████████████████████████████████| 1.9 MB 55.1 MB/s \n",
            "\u001b[?25hCollecting Flask-Cors>=3.0.8\n",
            "  Downloading Flask_Cors-3.0.10-py2.py3-none-any.whl (14 kB)\n",
            "Collecting ffmpy\n",
            "  Downloading ffmpy-0.3.0.tar.gz (4.8 kB)\n",
            "Collecting flask-cachebuster\n",
            "  Downloading Flask-CacheBuster-1.0.0.tar.gz (3.1 kB)\n",
            "Requirement already satisfied: Flask>=1.1.1 in /usr/local/lib/python3.7/dist-packages (from gradio) (1.1.4)\n",
            "Requirement already satisfied: numpy in /usr/local/lib/python3.7/dist-packages (from gradio) (1.19.5)\n",
            "Requirement already satisfied: requests in /usr/local/lib/python3.7/dist-packages (from gradio) (2.23.0)\n",
            "Collecting paramiko\n",
            "  Downloading paramiko-2.7.2-py2.py3-none-any.whl (206 kB)\n",
            "\u001b[K     |████████████████████████████████| 206 kB 44.7 MB/s \n",
            "\u001b[?25hCollecting markdown2\n",
            "  Downloading markdown2-2.4.0-py2.py3-none-any.whl (34 kB)\n",
            "Requirement already satisfied: matplotlib in /usr/local/lib/python3.7/dist-packages (from gradio) (3.2.2)\n",
            "Collecting analytics-python\n",
            "  Downloading analytics_python-1.4.0-py2.py3-none-any.whl (15 kB)\n",
            "Requirement already satisfied: Werkzeug<2.0,>=0.15 in /usr/local/lib/python3.7/dist-packages (from Flask>=1.1.1->gradio) (1.0.1)\n",
            "Requirement already satisfied: click<8.0,>=5.1 in /usr/local/lib/python3.7/dist-packages (from Flask>=1.1.1->gradio) (7.1.2)\n",
            "Requirement already satisfied: Jinja2<3.0,>=2.10.1 in /usr/local/lib/python3.7/dist-packages (from Flask>=1.1.1->gradio) (2.11.3)\n",
            "Requirement already satisfied: itsdangerous<2.0,>=0.24 in /usr/local/lib/python3.7/dist-packages (from Flask>=1.1.1->gradio) (1.1.0)\n",
            "Requirement already satisfied: Six in /usr/local/lib/python3.7/dist-packages (from Flask-Cors>=3.0.8->gradio) (1.15.0)\n",
            "Requirement already satisfied: MarkupSafe>=0.23 in /usr/local/lib/python3.7/dist-packages (from Jinja2<3.0,>=2.10.1->Flask>=1.1.1->gradio) (2.0.1)\n",
            "Collecting backoff==1.10.0\n",
            "  Downloading backoff-1.10.0-py2.py3-none-any.whl (31 kB)\n",
            "Collecting monotonic>=1.5\n",
            "  Downloading monotonic-1.6-py2.py3-none-any.whl (8.2 kB)\n",
            "Requirement already satisfied: python-dateutil>2.1 in /usr/local/lib/python3.7/dist-packages (from analytics-python->gradio) (2.8.1)\n",
            "Requirement already satisfied: certifi>=2017.4.17 in /usr/local/lib/python3.7/dist-packages (from requests->gradio) (2021.5.30)\n",
            "Requirement already satisfied: chardet<4,>=3.0.2 in /usr/local/lib/python3.7/dist-packages (from requests->gradio) (3.0.4)\n",
            "Requirement already satisfied: urllib3!=1.25.0,!=1.25.1,<1.26,>=1.21.1 in /usr/local/lib/python3.7/dist-packages (from requests->gradio) (1.24.3)\n",
            "Requirement already satisfied: idna<3,>=2.5 in /usr/local/lib/python3.7/dist-packages (from requests->gradio) (2.10)\n",
            "Requirement already satisfied: kiwisolver>=1.0.1 in /usr/local/lib/python3.7/dist-packages (from matplotlib->gradio) (1.3.1)\n",
            "Requirement already satisfied: cycler>=0.10 in /usr/local/lib/python3.7/dist-packages (from matplotlib->gradio) (0.10.0)\n",
            "Requirement already satisfied: pyparsing!=2.0.4,!=2.1.2,!=2.1.6,>=2.0.1 in /usr/local/lib/python3.7/dist-packages (from matplotlib->gradio) (2.4.7)\n",
            "Requirement already satisfied: pytz>=2017.2 in /usr/local/lib/python3.7/dist-packages (from pandas->gradio) (2018.9)\n",
            "Collecting pynacl>=1.0.1\n",
            "  Downloading PyNaCl-1.4.0-cp35-abi3-manylinux1_x86_64.whl (961 kB)\n",
            "\u001b[K     |████████████████████████████████| 961 kB 69.6 MB/s \n",
            "\u001b[?25hCollecting cryptography>=2.5\n",
            "  Downloading cryptography-3.4.7-cp36-abi3-manylinux2014_x86_64.whl (3.2 MB)\n",
            "\u001b[K     |████████████████████████████████| 3.2 MB 52.0 MB/s \n",
            "\u001b[?25hCollecting bcrypt>=3.1.3\n",
            "  Downloading bcrypt-3.2.0-cp36-abi3-manylinux2010_x86_64.whl (63 kB)\n",
            "\u001b[K     |████████████████████████████████| 63 kB 2.9 MB/s \n",
            "\u001b[?25hRequirement already satisfied: cffi>=1.1 in /usr/local/lib/python3.7/dist-packages (from bcrypt>=3.1.3->paramiko->gradio) (1.14.6)\n",
            "Requirement already satisfied: pycparser in /usr/local/lib/python3.7/dist-packages (from cffi>=1.1->bcrypt>=3.1.3->paramiko->gradio) (2.20)\n",
            "Building wheels for collected packages: ffmpy, flask-cachebuster\n",
            "  Building wheel for ffmpy (setup.py) ... \u001b[?25l\u001b[?25hdone\n",
            "  Created wheel for ffmpy: filename=ffmpy-0.3.0-py3-none-any.whl size=4709 sha256=f45d59a509f070a73332ae7d96e939338e3c603a302f543938a772511f4b286b\n",
            "  Stored in directory: /root/.cache/pip/wheels/13/e4/6c/e8059816e86796a597c6e6b0d4c880630f51a1fcfa0befd5e6\n",
            "  Building wheel for flask-cachebuster (setup.py) ... \u001b[?25l\u001b[?25hdone\n",
            "  Created wheel for flask-cachebuster: filename=Flask_CacheBuster-1.0.0-py3-none-any.whl size=3372 sha256=59ee6056a161976b0a5f557c164f83f365dfc9a3f5ea59874b53ac08473cdf24\n",
            "  Stored in directory: /root/.cache/pip/wheels/28/c0/c4/44687421dab41455be93112bd1b0dee1f3c5a9aa27bee63708\n",
            "Successfully built ffmpy flask-cachebuster\n",
            "Installing collected packages: pynacl, monotonic, cryptography, bcrypt, backoff, pycryptodome, paramiko, markdown2, Flask-Login, Flask-Cors, flask-cachebuster, ffmpy, analytics-python, gradio\n",
            "Successfully installed Flask-Cors-3.0.10 Flask-Login-0.5.0 analytics-python-1.4.0 backoff-1.10.0 bcrypt-3.2.0 cryptography-3.4.7 ffmpy-0.3.0 flask-cachebuster-1.0.0 gradio-2.2.7 markdown2-2.4.0 monotonic-1.6 paramiko-2.7.2 pycryptodome-3.10.1 pynacl-1.4.0\n"
          ],
          "name": "stdout"
        }
      ]
    },
    {
      "cell_type": "code",
      "metadata": {
        "id": "TZpMoYrjvaX8"
      },
      "source": [
        "import gradio as gr"
      ],
      "execution_count": 25,
      "outputs": []
    },
    {
      "cell_type": "code",
      "metadata": {
        "id": "1cXPcUXeqpiZ"
      },
      "source": [
        "labels = ['貓', '狗']"
      ],
      "execution_count": 26,
      "outputs": []
    },
    {
      "cell_type": "code",
      "metadata": {
        "id": "gAmBlyP5q7lf"
      },
      "source": [
        "def classify_image(inp):\n",
        "  inp = inp.reshape((-1, 224, 224, 3))\n",
        "  inp = preprocess_input(inp)\n",
        "  p = model.predict(inp).flatten()[0]\n",
        "  return {'貓': float(1-p), '狗': float(p)}"
      ],
      "execution_count": 27,
      "outputs": []
    },
    {
      "cell_type": "code",
      "metadata": {
        "id": "M8ZinZArugzB"
      },
      "source": [
        "image = gr.inputs.Image(shape=(224, 224), label=\"狗或貓的照片\")\n",
        "label = gr.outputs.Label(label=\"AI辨識結果\")"
      ],
      "execution_count": 28,
      "outputs": []
    },
    {
      "cell_type": "code",
      "metadata": {
        "colab": {
          "background_save": true,
          "base_uri": "https://localhost:8080/",
          "height": 611
        },
        "id": "ntjlqIbTumO5",
        "outputId": "fa70f07b-183d-45a1-e26a-45d1e6064044"
      },
      "source": [
        "gr.Interface(fn=classify_image, inputs=image, outputs=label,\n",
        "             title=\"AI 狗貓辨識機\",\n",
        "             description=\"請輸入一張狗或貓的照片, 看我是否分得出來!\"\n",
        "             ).launch(debug=True)"
      ],
      "execution_count": null,
      "outputs": [
        {
          "output_type": "stream",
          "text": [
            "Colab notebook detected. This cell will run indefinitely so that you can see errors and logs. To turn off, set debug=False in launch().\n",
            "This share link will expire in 24 hours. If you need a permanent link, visit: https://gradio.app/introducing-hosted (NEW!)\n",
            "Running on External URL: https://24744.gradio.app\n",
            "Interface loading below...\n"
          ],
          "name": "stdout"
        },
        {
          "output_type": "display_data",
          "data": {
            "text/html": [
              "\n",
              "        <iframe\n",
              "            width=\"900\"\n",
              "            height=\"500\"\n",
              "            src=\"https://24744.gradio.app\"\n",
              "            frameborder=\"0\"\n",
              "            allowfullscreen\n",
              "        ></iframe>\n",
              "        "
            ],
            "text/plain": [
              "<IPython.lib.display.IFrame at 0x7fbefb5ce890>"
            ]
          },
          "metadata": {
            "tags": []
          }
        }
      ]
    }
  ]
}