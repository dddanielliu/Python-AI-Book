{
  "nbformat": 4,
  "nbformat_minor": 0,
  "metadata": {
    "colab": {
      "provenance": [],
      "collapsed_sections": [],
      "authorship_tag": "ABX9TyPt/vbR/C5o/k3yyWggw+rU",
      "include_colab_link": true
    },
    "kernelspec": {
      "name": "python3",
      "display_name": "Python 3"
    },
    "language_info": {
      "name": "python"
    }
  },
  "cells": [
    {
      "cell_type": "markdown",
      "metadata": {
        "id": "view-in-github",
        "colab_type": "text"
      },
      "source": [
        "<a href=\"https://colab.research.google.com/github/yenlung/Python-AI-Book/blob/main/%E5%86%92%E9%9A%AA23_RNN%E6%8A%80%E5%B7%A7%E8%A8%8E%E8%AB%96.ipynb\" target=\"_parent\"><img src=\"https://colab.research.google.com/assets/colab-badge.svg\" alt=\"Open In Colab\"/></a>"
      ]
    },
    {
      "cell_type": "code",
      "execution_count": null,
      "metadata": {
        "id": "EGcOa-fkm-Gm"
      },
      "outputs": [],
      "source": [
        "%matplotlib inline\n",
        "\n",
        "import numpy as np\n",
        "import pandas as pd\n",
        "import matplotlib.pyplot"
      ]
    },
    {
      "cell_type": "markdown",
      "source": [
        "### 1. 資料的輸入：文字怎麼輸入電腦"
      ],
      "metadata": {
        "id": "g_B1lSf2uMU-"
      }
    },
    {
      "cell_type": "code",
      "source": [
        "!wget --no-check-certificate \\\n",
        "    https://raw.githubusercontent.com/yenlung/Python-AI-Book/main/review.csv \\\n",
        "    -O /content/review.csv"
      ],
      "metadata": {
        "colab": {
          "base_uri": "https://localhost:8080/"
        },
        "id": "muSjqeNkZ4l1",
        "outputId": "e2c7d2c3-3d3a-42bf-cef8-df237da8d5bf"
      },
      "execution_count": null,
      "outputs": [
        {
          "output_type": "stream",
          "name": "stdout",
          "text": [
            "--2022-04-10 17:01:54--  https://raw.githubusercontent.com/yenlung/Python-AI-Book/main/review.csv\n",
            "Resolving raw.githubusercontent.com (raw.githubusercontent.com)... 185.199.111.133, 185.199.110.133, 185.199.109.133, ...\n",
            "Connecting to raw.githubusercontent.com (raw.githubusercontent.com)|185.199.111.133|:443... connected.\n",
            "HTTP request sent, awaiting response... 200 OK\n",
            "Length: 1141 (1.1K) [text/plain]\n",
            "Saving to: ‘/content/review.csv’\n",
            "\n",
            "\r/content/review.csv   0%[                    ]       0  --.-KB/s               \r/content/review.csv 100%[===================>]   1.11K  --.-KB/s    in 0s      \n",
            "\n",
            "2022-04-10 17:01:54 (77.2 MB/s) - ‘/content/review.csv’ saved [1141/1141]\n",
            "\n"
          ]
        }
      ]
    },
    {
      "cell_type": "code",
      "source": [
        "df = pd.read_csv('review.csv')"
      ],
      "metadata": {
        "id": "yG44aUaFyR7z"
      },
      "execution_count": null,
      "outputs": []
    },
    {
      "cell_type": "code",
      "source": [
        "df.head()"
      ],
      "metadata": {
        "colab": {
          "base_uri": "https://localhost:8080/",
          "height": 206
        },
        "id": "cfwy3sNQxhXL",
        "outputId": "171e5b77-a9ba-4adf-fd12-c776d64e6de0"
      },
      "execution_count": null,
      "outputs": [
        {
          "output_type": "execute_result",
          "data": {
            "text/plain": [
              "                                           評論  正負評\n",
              "0                         蠻穩定的 行車記錄器就是要穩 其他其次    1\n",
              "1                                 流媒體不錯 晚上又清楚    1\n",
              "2  最近有裝 A129 pro duo，畫質不錯，之前mio 791d用兩年也沒遇到問題    1\n",
              "3                      mio 後鏡頭一直斷線 拉線要很注意 很麻煩    0\n",
              "4                  晚上只有cansonic z3這種有望遠鏡的才拍的到    1"
            ],
            "text/html": [
              "\n",
              "  <div id=\"df-626853e5-0d01-4c17-87e4-c4f004c75eb1\">\n",
              "    <div class=\"colab-df-container\">\n",
              "      <div>\n",
              "<style scoped>\n",
              "    .dataframe tbody tr th:only-of-type {\n",
              "        vertical-align: middle;\n",
              "    }\n",
              "\n",
              "    .dataframe tbody tr th {\n",
              "        vertical-align: top;\n",
              "    }\n",
              "\n",
              "    .dataframe thead th {\n",
              "        text-align: right;\n",
              "    }\n",
              "</style>\n",
              "<table border=\"1\" class=\"dataframe\">\n",
              "  <thead>\n",
              "    <tr style=\"text-align: right;\">\n",
              "      <th></th>\n",
              "      <th>評論</th>\n",
              "      <th>正負評</th>\n",
              "    </tr>\n",
              "  </thead>\n",
              "  <tbody>\n",
              "    <tr>\n",
              "      <th>0</th>\n",
              "      <td>蠻穩定的 行車記錄器就是要穩 其他其次</td>\n",
              "      <td>1</td>\n",
              "    </tr>\n",
              "    <tr>\n",
              "      <th>1</th>\n",
              "      <td>流媒體不錯 晚上又清楚</td>\n",
              "      <td>1</td>\n",
              "    </tr>\n",
              "    <tr>\n",
              "      <th>2</th>\n",
              "      <td>最近有裝 A129 pro duo，畫質不錯，之前mio 791d用兩年也沒遇到問題</td>\n",
              "      <td>1</td>\n",
              "    </tr>\n",
              "    <tr>\n",
              "      <th>3</th>\n",
              "      <td>mio 後鏡頭一直斷線 拉線要很注意 很麻煩</td>\n",
              "      <td>0</td>\n",
              "    </tr>\n",
              "    <tr>\n",
              "      <th>4</th>\n",
              "      <td>晚上只有cansonic z3這種有望遠鏡的才拍的到</td>\n",
              "      <td>1</td>\n",
              "    </tr>\n",
              "  </tbody>\n",
              "</table>\n",
              "</div>\n",
              "      <button class=\"colab-df-convert\" onclick=\"convertToInteractive('df-626853e5-0d01-4c17-87e4-c4f004c75eb1')\"\n",
              "              title=\"Convert this dataframe to an interactive table.\"\n",
              "              style=\"display:none;\">\n",
              "        \n",
              "  <svg xmlns=\"http://www.w3.org/2000/svg\" height=\"24px\"viewBox=\"0 0 24 24\"\n",
              "       width=\"24px\">\n",
              "    <path d=\"M0 0h24v24H0V0z\" fill=\"none\"/>\n",
              "    <path d=\"M18.56 5.44l.94 2.06.94-2.06 2.06-.94-2.06-.94-.94-2.06-.94 2.06-2.06.94zm-11 1L8.5 8.5l.94-2.06 2.06-.94-2.06-.94L8.5 2.5l-.94 2.06-2.06.94zm10 10l.94 2.06.94-2.06 2.06-.94-2.06-.94-.94-2.06-.94 2.06-2.06.94z\"/><path d=\"M17.41 7.96l-1.37-1.37c-.4-.4-.92-.59-1.43-.59-.52 0-1.04.2-1.43.59L10.3 9.45l-7.72 7.72c-.78.78-.78 2.05 0 2.83L4 21.41c.39.39.9.59 1.41.59.51 0 1.02-.2 1.41-.59l7.78-7.78 2.81-2.81c.8-.78.8-2.07 0-2.86zM5.41 20L4 18.59l7.72-7.72 1.47 1.35L5.41 20z\"/>\n",
              "  </svg>\n",
              "      </button>\n",
              "      \n",
              "  <style>\n",
              "    .colab-df-container {\n",
              "      display:flex;\n",
              "      flex-wrap:wrap;\n",
              "      gap: 12px;\n",
              "    }\n",
              "\n",
              "    .colab-df-convert {\n",
              "      background-color: #E8F0FE;\n",
              "      border: none;\n",
              "      border-radius: 50%;\n",
              "      cursor: pointer;\n",
              "      display: none;\n",
              "      fill: #1967D2;\n",
              "      height: 32px;\n",
              "      padding: 0 0 0 0;\n",
              "      width: 32px;\n",
              "    }\n",
              "\n",
              "    .colab-df-convert:hover {\n",
              "      background-color: #E2EBFA;\n",
              "      box-shadow: 0px 1px 2px rgba(60, 64, 67, 0.3), 0px 1px 3px 1px rgba(60, 64, 67, 0.15);\n",
              "      fill: #174EA6;\n",
              "    }\n",
              "\n",
              "    [theme=dark] .colab-df-convert {\n",
              "      background-color: #3B4455;\n",
              "      fill: #D2E3FC;\n",
              "    }\n",
              "\n",
              "    [theme=dark] .colab-df-convert:hover {\n",
              "      background-color: #434B5C;\n",
              "      box-shadow: 0px 1px 3px 1px rgba(0, 0, 0, 0.15);\n",
              "      filter: drop-shadow(0px 1px 2px rgba(0, 0, 0, 0.3));\n",
              "      fill: #FFFFFF;\n",
              "    }\n",
              "  </style>\n",
              "\n",
              "      <script>\n",
              "        const buttonEl =\n",
              "          document.querySelector('#df-626853e5-0d01-4c17-87e4-c4f004c75eb1 button.colab-df-convert');\n",
              "        buttonEl.style.display =\n",
              "          google.colab.kernel.accessAllowed ? 'block' : 'none';\n",
              "\n",
              "        async function convertToInteractive(key) {\n",
              "          const element = document.querySelector('#df-626853e5-0d01-4c17-87e4-c4f004c75eb1');\n",
              "          const dataTable =\n",
              "            await google.colab.kernel.invokeFunction('convertToInteractive',\n",
              "                                                     [key], {});\n",
              "          if (!dataTable) return;\n",
              "\n",
              "          const docLinkHtml = 'Like what you see? Visit the ' +\n",
              "            '<a target=\"_blank\" href=https://colab.research.google.com/notebooks/data_table.ipynb>data table notebook</a>'\n",
              "            + ' to learn more about interactive tables.';\n",
              "          element.innerHTML = '';\n",
              "          dataTable['output_type'] = 'display_data';\n",
              "          await google.colab.output.renderOutput(dataTable, element);\n",
              "          const docLink = document.createElement('div');\n",
              "          docLink.innerHTML = docLinkHtml;\n",
              "          element.appendChild(docLink);\n",
              "        }\n",
              "      </script>\n",
              "    </div>\n",
              "  </div>\n",
              "  "
            ]
          },
          "metadata": {},
          "execution_count": 6
        }
      ]
    },
    {
      "cell_type": "markdown",
      "source": [
        "找出中文的部分"
      ],
      "metadata": {
        "id": "Q1NQzcYNzNXr"
      }
    },
    {
      "cell_type": "code",
      "source": [
        "import re"
      ],
      "metadata": {
        "id": "HpYEygC7y_p5"
      },
      "execution_count": null,
      "outputs": []
    },
    {
      "cell_type": "code",
      "source": [
        "patn=re.compile(r\"[\\u4E00-\\u9FD5]+\")"
      ],
      "metadata": {
        "id": "-Y86dKxW0rmN"
      },
      "execution_count": null,
      "outputs": []
    },
    {
      "cell_type": "code",
      "source": [
        "X = df['評論'][3]"
      ],
      "metadata": {
        "id": "v3QkjGTa1UG7"
      },
      "execution_count": null,
      "outputs": []
    },
    {
      "cell_type": "code",
      "source": [
        "X"
      ],
      "metadata": {
        "colab": {
          "base_uri": "https://localhost:8080/",
          "height": 35
        },
        "id": "gZ61eEQE1m_6",
        "outputId": "fac50c8d-ccef-4436-f9bb-4b28f22d2c5e"
      },
      "execution_count": null,
      "outputs": [
        {
          "output_type": "execute_result",
          "data": {
            "text/plain": [
              "'mio 後鏡頭一直斷線 拉線要很注意 很麻煩'"
            ],
            "application/vnd.google.colaboratory.intrinsic+json": {
              "type": "string"
            }
          },
          "metadata": {},
          "execution_count": 28
        }
      ]
    },
    {
      "cell_type": "code",
      "source": [
        "patn.findall(X)"
      ],
      "metadata": {
        "colab": {
          "base_uri": "https://localhost:8080/"
        },
        "id": "KsmKT8mR1nom",
        "outputId": "471e4f76-effa-44cc-fa5a-14b63bc87a6b"
      },
      "execution_count": null,
      "outputs": [
        {
          "output_type": "execute_result",
          "data": {
            "text/plain": [
              "['後鏡頭一直斷線', '拉線要很注意', '很麻煩']"
            ]
          },
          "metadata": {},
          "execution_count": 29
        }
      ]
    },
    {
      "cell_type": "code",
      "source": [
        "for review in df['評論']:\n",
        "    print(patn.findall(review))"
      ],
      "metadata": {
        "colab": {
          "base_uri": "https://localhost:8080/"
        },
        "id": "AfZhkjNG2MR4",
        "outputId": "f9112072-f317-462d-de78-b945e7c59b0e"
      },
      "execution_count": null,
      "outputs": [
        {
          "output_type": "stream",
          "name": "stdout",
          "text": [
            "['蠻穩定的', '行車記錄器就是要穩', '其他其次']\n",
            "['流媒體不錯', '晚上又清楚']\n",
            "['最近有裝', '畫質不錯', '之前', '用兩年也沒遇到問題']\n",
            "['後鏡頭一直斷線', '拉線要很注意', '很麻煩']\n",
            "['晚上只有', '這種有望遠鏡的才拍的到']\n",
            "['邁不錯']\n",
            "['現在新的', '錄一錄會一直出現記憶卡損壞的語音就停止了', '要重裝記憶卡不知道是只有這台']\n",
            "['邁後視鏡含夜光後視', '六月裝家裡兩台老車', '後視都裝在車外', '目前都正常', '便宜好選擇']\n",
            "['我要跟你說', '他的導航是廢渣', '要用他的導航才能顯示左轉右轉和路名']\n",
            "['以前用很久', '放', '還行']\n",
            "['不過用久了', '像深灰色款的會慢慢變淡一點']\n",
            "['我用了快五年了', '持續使用中']\n",
            "['我覺得很好用']\n",
            "['用過一款', '吋包超過十年', '很滿意']\n",
            "['個人頗推這個牌子好看又耐用']\n",
            "['上次買到', '折以後約', '年還在用']\n",
            "['這個沒有', '充電呀']\n",
            "['我剛好有買這款', '因為有三個', '插槽才買的', '質感還算不錯', '平常會外接螢幕使用', '會熱但不至於到燙', '跟充電都不會影響']\n"
          ]
        }
      ]
    },
    {
      "cell_type": "markdown",
      "source": [
        "化資料為我們要的形式"
      ],
      "metadata": {
        "id": "flEBwHS12uGN"
      }
    },
    {
      "cell_type": "code",
      "source": [
        "x_tmp = []\n",
        "\n",
        "for review in df['評論']:\n",
        "    sen_list = patn.findall(review)\n",
        "    sen = ' '.join(sen_list)\n",
        "    x_tmp.append(sen)"
      ],
      "metadata": {
        "id": "5LeE9cP02jDu"
      },
      "execution_count": null,
      "outputs": []
    },
    {
      "cell_type": "code",
      "source": [
        "x_tmp"
      ],
      "metadata": {
        "colab": {
          "base_uri": "https://localhost:8080/"
        },
        "id": "CD99YXPz3HiQ",
        "outputId": "6d8af6e4-4513-4105-c4f4-edbdb75194a4"
      },
      "execution_count": null,
      "outputs": [
        {
          "output_type": "execute_result",
          "data": {
            "text/plain": [
              "['蠻穩定的 行車記錄器就是要穩 其他其次',\n",
              " '流媒體不錯 晚上又清楚',\n",
              " '最近有裝 畫質不錯 之前 用兩年也沒遇到問題',\n",
              " '後鏡頭一直斷線 拉線要很注意 很麻煩',\n",
              " '晚上只有 這種有望遠鏡的才拍的到',\n",
              " '邁不錯',\n",
              " '現在新的 錄一錄會一直出現記憶卡損壞的語音就停止了 要重裝記憶卡不知道是只有這台',\n",
              " '邁後視鏡含夜光後視 六月裝家裡兩台老車 後視都裝在車外 目前都正常 便宜好選擇',\n",
              " '我要跟你說 他的導航是廢渣 要用他的導航才能顯示左轉右轉和路名',\n",
              " '以前用很久 放 還行',\n",
              " '不過用久了 像深灰色款的會慢慢變淡一點',\n",
              " '我用了快五年了 持續使用中',\n",
              " '我覺得很好用',\n",
              " '用過一款 吋包超過十年 很滿意',\n",
              " '個人頗推這個牌子好看又耐用',\n",
              " '上次買到 折以後約 年還在用',\n",
              " '這個沒有 充電呀',\n",
              " '我剛好有買這款 因為有三個 插槽才買的 質感還算不錯 平常會外接螢幕使用 會熱但不至於到燙 跟充電都不會影響']"
            ]
          },
          "metadata": {},
          "execution_count": 32
        }
      ]
    },
    {
      "cell_type": "markdown",
      "source": [
        "計算字出現的頻率"
      ],
      "metadata": {
        "id": "Ey8g9xAk3k3q"
      }
    },
    {
      "cell_type": "code",
      "source": [
        "X = x_tmp[3]\n",
        "X"
      ],
      "metadata": {
        "colab": {
          "base_uri": "https://localhost:8080/",
          "height": 35
        },
        "id": "ZQH4iGaE3Nkd",
        "outputId": "c1927d38-ea36-448c-9f60-ac894416bb83"
      },
      "execution_count": null,
      "outputs": [
        {
          "output_type": "execute_result",
          "data": {
            "text/plain": [
              "'後鏡頭一直斷線 拉線要很注意 很麻煩'"
            ],
            "application/vnd.google.colaboratory.intrinsic+json": {
              "type": "string"
            }
          },
          "metadata": {},
          "execution_count": 33
        }
      ]
    },
    {
      "cell_type": "code",
      "source": [
        "X.split()"
      ],
      "metadata": {
        "colab": {
          "base_uri": "https://localhost:8080/"
        },
        "id": "IhqdZCDv38N3",
        "outputId": "cf2b4dac-7330-4bc0-d26c-f22db009eeb3"
      },
      "execution_count": null,
      "outputs": [
        {
          "output_type": "execute_result",
          "data": {
            "text/plain": [
              "['後鏡頭一直斷線', '拉線要很注意', '很麻煩']"
            ]
          },
          "metadata": {},
          "execution_count": 34
        }
      ]
    },
    {
      "cell_type": "code",
      "source": [
        "''.join(X.split())"
      ],
      "metadata": {
        "colab": {
          "base_uri": "https://localhost:8080/",
          "height": 35
        },
        "id": "CMbE-kYg4PJS",
        "outputId": "a29685f3-d6d9-4549-98b8-ad17ec180fcc"
      },
      "execution_count": null,
      "outputs": [
        {
          "output_type": "execute_result",
          "data": {
            "text/plain": [
              "'後鏡頭一直斷線拉線要很注意很麻煩'"
            ],
            "application/vnd.google.colaboratory.intrinsic+json": {
              "type": "string"
            }
          },
          "metadata": {},
          "execution_count": 35
        }
      ]
    },
    {
      "cell_type": "code",
      "source": [
        "egg = ''.join(''.join(x_tmp).split())\n",
        "egg"
      ],
      "metadata": {
        "colab": {
          "base_uri": "https://localhost:8080/",
          "height": 157
        },
        "id": "N-JI9wov4-I5",
        "outputId": "35f72acb-6b25-4790-d391-15ce7c864053"
      },
      "execution_count": null,
      "outputs": [
        {
          "output_type": "execute_result",
          "data": {
            "text/plain": [
              "'蠻穩定的行車記錄器就是要穩其他其次流媒體不錯晚上又清楚最近有裝畫質不錯之前用兩年也沒遇到問題後鏡頭一直斷線拉線要很注意很麻煩晚上只有這種有望遠鏡的才拍的到邁不錯現在新的錄一錄會一直出現記憶卡損壞的語音就停止了要重裝記憶卡不知道是只有這台邁後視鏡含夜光後視六月裝家裡兩台老車後視都裝在車外目前都正常便宜好選擇我要跟你說他的導航是廢渣要用他的導航才能顯示左轉右轉和路名以前用很久放還行不過用久了像深灰色款的會慢慢變淡一點我用了快五年了持續使用中我覺得很好用用過一款吋包超過十年很滿意個人頗推這個牌子好看又耐用上次買到折以後約年還在用這個沒有充電呀我剛好有買這款因為有三個插槽才買的質感還算不錯平常會外接螢幕使用會熱但不至於到燙跟充電都不會影響'"
            ],
            "application/vnd.google.colaboratory.intrinsic+json": {
              "type": "string"
            }
          },
          "metadata": {},
          "execution_count": 36
        }
      ]
    },
    {
      "cell_type": "code",
      "source": [
        "count = {}"
      ],
      "metadata": {
        "id": "tFdSJkkJ5UgG"
      },
      "execution_count": null,
      "outputs": []
    },
    {
      "cell_type": "code",
      "source": [
        "for char in egg:\n",
        "    if char in count.keys():\n",
        "        count[char] += 1\n",
        "    else:\n",
        "        count[char] = 1   "
      ],
      "metadata": {
        "id": "k6ae8ije5hFD"
      },
      "execution_count": null,
      "outputs": []
    },
    {
      "cell_type": "code",
      "source": [
        "count"
      ],
      "metadata": {
        "colab": {
          "base_uri": "https://localhost:8080/"
        },
        "id": "FzWftaru5iKW",
        "outputId": "b4b0ae98-e08d-4d9d-cca7-dc8a8802e9c2"
      },
      "execution_count": null,
      "outputs": [
        {
          "output_type": "execute_result",
          "data": {
            "text/plain": [
              "{'一': 5,\n",
              " '三': 1,\n",
              " '上': 3,\n",
              " '不': 8,\n",
              " '中': 1,\n",
              " '久': 2,\n",
              " '之': 1,\n",
              " '也': 1,\n",
              " '了': 4,\n",
              " '五': 1,\n",
              " '人': 1,\n",
              " '他': 3,\n",
              " '以': 2,\n",
              " '但': 1,\n",
              " '你': 1,\n",
              " '使': 2,\n",
              " '便': 1,\n",
              " '個': 4,\n",
              " '停': 1,\n",
              " '像': 1,\n",
              " '充': 2,\n",
              " '光': 1,\n",
              " '兩': 2,\n",
              " '六': 1,\n",
              " '其': 2,\n",
              " '出': 1,\n",
              " '到': 4,\n",
              " '前': 3,\n",
              " '剛': 1,\n",
              " '包': 1,\n",
              " '十': 1,\n",
              " '卡': 2,\n",
              " '又': 2,\n",
              " '只': 2,\n",
              " '台': 2,\n",
              " '右': 1,\n",
              " '吋': 1,\n",
              " '名': 1,\n",
              " '含': 1,\n",
              " '呀': 1,\n",
              " '和': 1,\n",
              " '問': 1,\n",
              " '器': 1,\n",
              " '因': 1,\n",
              " '在': 3,\n",
              " '壞': 1,\n",
              " '外': 2,\n",
              " '夜': 1,\n",
              " '好': 4,\n",
              " '媒': 1,\n",
              " '子': 1,\n",
              " '定': 1,\n",
              " '宜': 1,\n",
              " '家': 1,\n",
              " '導': 2,\n",
              " '就': 2,\n",
              " '左': 1,\n",
              " '常': 2,\n",
              " '幕': 1,\n",
              " '平': 1,\n",
              " '年': 4,\n",
              " '廢': 1,\n",
              " '影': 1,\n",
              " '很': 5,\n",
              " '後': 5,\n",
              " '得': 1,\n",
              " '快': 1,\n",
              " '意': 2,\n",
              " '感': 1,\n",
              " '慢': 2,\n",
              " '憶': 2,\n",
              " '我': 4,\n",
              " '才': 3,\n",
              " '折': 1,\n",
              " '拉': 1,\n",
              " '拍': 1,\n",
              " '持': 1,\n",
              " '接': 1,\n",
              " '推': 1,\n",
              " '插': 1,\n",
              " '損': 1,\n",
              " '擇': 1,\n",
              " '放': 1,\n",
              " '新': 1,\n",
              " '斷': 1,\n",
              " '於': 1,\n",
              " '是': 3,\n",
              " '晚': 2,\n",
              " '最': 1,\n",
              " '會': 5,\n",
              " '月': 1,\n",
              " '有': 7,\n",
              " '望': 1,\n",
              " '楚': 1,\n",
              " '槽': 1,\n",
              " '次': 2,\n",
              " '款': 3,\n",
              " '止': 1,\n",
              " '正': 1,\n",
              " '沒': 2,\n",
              " '注': 1,\n",
              " '流': 1,\n",
              " '淡': 1,\n",
              " '深': 1,\n",
              " '清': 1,\n",
              " '渣': 1,\n",
              " '滿': 1,\n",
              " '灰': 1,\n",
              " '為': 1,\n",
              " '煩': 1,\n",
              " '熱': 1,\n",
              " '燙': 1,\n",
              " '牌': 1,\n",
              " '現': 2,\n",
              " '用': 11,\n",
              " '畫': 1,\n",
              " '的': 9,\n",
              " '目': 1,\n",
              " '直': 2,\n",
              " '看': 1,\n",
              " '知': 1,\n",
              " '示': 1,\n",
              " '種': 1,\n",
              " '穩': 2,\n",
              " '算': 1,\n",
              " '約': 1,\n",
              " '線': 2,\n",
              " '續': 1,\n",
              " '老': 1,\n",
              " '耐': 1,\n",
              " '能': 1,\n",
              " '至': 1,\n",
              " '航': 2,\n",
              " '色': 1,\n",
              " '螢': 1,\n",
              " '蠻': 1,\n",
              " '行': 2,\n",
              " '裝': 4,\n",
              " '裡': 1,\n",
              " '要': 5,\n",
              " '視': 3,\n",
              " '覺': 1,\n",
              " '記': 3,\n",
              " '語': 1,\n",
              " '說': 1,\n",
              " '變': 1,\n",
              " '買': 3,\n",
              " '質': 2,\n",
              " '超': 1,\n",
              " '跟': 2,\n",
              " '路': 1,\n",
              " '車': 3,\n",
              " '轉': 2,\n",
              " '近': 1,\n",
              " '這': 5,\n",
              " '遇': 1,\n",
              " '過': 3,\n",
              " '道': 1,\n",
              " '遠': 1,\n",
              " '選': 1,\n",
              " '邁': 2,\n",
              " '還': 3,\n",
              " '都': 3,\n",
              " '重': 1,\n",
              " '錄': 3,\n",
              " '錯': 4,\n",
              " '鏡': 3,\n",
              " '電': 2,\n",
              " '音': 1,\n",
              " '響': 1,\n",
              " '頗': 1,\n",
              " '頭': 1,\n",
              " '題': 1,\n",
              " '顯': 1,\n",
              " '體': 1,\n",
              " '麻': 1,\n",
              " '點': 1}"
            ]
          },
          "metadata": {},
          "execution_count": 39
        }
      ]
    },
    {
      "cell_type": "markdown",
      "source": [
        "給每個字一個編號"
      ],
      "metadata": {
        "id": "yaFnhPAj6hVc"
      }
    },
    {
      "cell_type": "code",
      "source": [
        "sorted(count, key=count.get,  reverse=True)"
      ],
      "metadata": {
        "colab": {
          "base_uri": "https://localhost:8080/"
        },
        "id": "VMH-A4UH5pRy",
        "outputId": "09e6507f-4af5-4139-baac-7fb89b5f1ed1"
      },
      "execution_count": null,
      "outputs": [
        {
          "output_type": "execute_result",
          "data": {
            "text/plain": [
              "['用',\n",
              " '的',\n",
              " '不',\n",
              " '有',\n",
              " '要',\n",
              " '後',\n",
              " '一',\n",
              " '很',\n",
              " '這',\n",
              " '會',\n",
              " '錯',\n",
              " '裝',\n",
              " '年',\n",
              " '到',\n",
              " '了',\n",
              " '好',\n",
              " '我',\n",
              " '個',\n",
              " '車',\n",
              " '記',\n",
              " '錄',\n",
              " '是',\n",
              " '他',\n",
              " '上',\n",
              " '前',\n",
              " '鏡',\n",
              " '才',\n",
              " '在',\n",
              " '視',\n",
              " '都',\n",
              " '還',\n",
              " '過',\n",
              " '款',\n",
              " '買',\n",
              " '穩',\n",
              " '行',\n",
              " '就',\n",
              " '其',\n",
              " '次',\n",
              " '晚',\n",
              " '又',\n",
              " '質',\n",
              " '兩',\n",
              " '沒',\n",
              " '直',\n",
              " '線',\n",
              " '意',\n",
              " '只',\n",
              " '邁',\n",
              " '現',\n",
              " '憶',\n",
              " '卡',\n",
              " '台',\n",
              " '外',\n",
              " '常',\n",
              " '跟',\n",
              " '導',\n",
              " '航',\n",
              " '轉',\n",
              " '以',\n",
              " '久',\n",
              " '慢',\n",
              " '使',\n",
              " '充',\n",
              " '電',\n",
              " '蠻',\n",
              " '定',\n",
              " '器',\n",
              " '流',\n",
              " '媒',\n",
              " '體',\n",
              " '清',\n",
              " '楚',\n",
              " '最',\n",
              " '近',\n",
              " '畫',\n",
              " '之',\n",
              " '也',\n",
              " '遇',\n",
              " '問',\n",
              " '題',\n",
              " '頭',\n",
              " '斷',\n",
              " '拉',\n",
              " '注',\n",
              " '麻',\n",
              " '煩',\n",
              " '種',\n",
              " '望',\n",
              " '遠',\n",
              " '拍',\n",
              " '新',\n",
              " '出',\n",
              " '損',\n",
              " '壞',\n",
              " '語',\n",
              " '音',\n",
              " '停',\n",
              " '止',\n",
              " '重',\n",
              " '知',\n",
              " '道',\n",
              " '含',\n",
              " '夜',\n",
              " '光',\n",
              " '六',\n",
              " '月',\n",
              " '家',\n",
              " '裡',\n",
              " '老',\n",
              " '目',\n",
              " '正',\n",
              " '便',\n",
              " '宜',\n",
              " '選',\n",
              " '擇',\n",
              " '你',\n",
              " '說',\n",
              " '廢',\n",
              " '渣',\n",
              " '能',\n",
              " '顯',\n",
              " '示',\n",
              " '左',\n",
              " '右',\n",
              " '和',\n",
              " '路',\n",
              " '名',\n",
              " '放',\n",
              " '像',\n",
              " '深',\n",
              " '灰',\n",
              " '色',\n",
              " '變',\n",
              " '淡',\n",
              " '點',\n",
              " '快',\n",
              " '五',\n",
              " '持',\n",
              " '續',\n",
              " '中',\n",
              " '覺',\n",
              " '得',\n",
              " '吋',\n",
              " '包',\n",
              " '超',\n",
              " '十',\n",
              " '滿',\n",
              " '人',\n",
              " '頗',\n",
              " '推',\n",
              " '牌',\n",
              " '子',\n",
              " '看',\n",
              " '耐',\n",
              " '折',\n",
              " '約',\n",
              " '呀',\n",
              " '剛',\n",
              " '因',\n",
              " '為',\n",
              " '三',\n",
              " '插',\n",
              " '槽',\n",
              " '感',\n",
              " '算',\n",
              " '平',\n",
              " '接',\n",
              " '螢',\n",
              " '幕',\n",
              " '熱',\n",
              " '但',\n",
              " '至',\n",
              " '於',\n",
              " '燙',\n",
              " '影',\n",
              " '響']"
            ]
          },
          "metadata": {},
          "execution_count": 40
        }
      ]
    },
    {
      "cell_type": "code",
      "source": [
        "egg = sorted(count, key=count.get,  reverse=True)"
      ],
      "metadata": {
        "id": "Qk056JoN6j_7"
      },
      "execution_count": null,
      "outputs": []
    },
    {
      "cell_type": "code",
      "source": [
        "for i, char in enumerate(egg, 1):\n",
        "    print(char, i)"
      ],
      "metadata": {
        "colab": {
          "base_uri": "https://localhost:8080/"
        },
        "id": "Wbp0Gbhh68Td",
        "outputId": "3fb3ea96-aacc-4f4e-a966-c5a671fce074"
      },
      "execution_count": null,
      "outputs": [
        {
          "output_type": "stream",
          "name": "stdout",
          "text": [
            "用 1\n",
            "的 2\n",
            "不 3\n",
            "有 4\n",
            "要 5\n",
            "後 6\n",
            "一 7\n",
            "很 8\n",
            "這 9\n",
            "會 10\n",
            "錯 11\n",
            "裝 12\n",
            "年 13\n",
            "到 14\n",
            "了 15\n",
            "好 16\n",
            "我 17\n",
            "個 18\n",
            "車 19\n",
            "記 20\n",
            "錄 21\n",
            "是 22\n",
            "他 23\n",
            "上 24\n",
            "前 25\n",
            "鏡 26\n",
            "才 27\n",
            "在 28\n",
            "視 29\n",
            "都 30\n",
            "還 31\n",
            "過 32\n",
            "款 33\n",
            "買 34\n",
            "穩 35\n",
            "行 36\n",
            "就 37\n",
            "其 38\n",
            "次 39\n",
            "晚 40\n",
            "又 41\n",
            "質 42\n",
            "兩 43\n",
            "沒 44\n",
            "直 45\n",
            "線 46\n",
            "意 47\n",
            "只 48\n",
            "邁 49\n",
            "現 50\n",
            "憶 51\n",
            "卡 52\n",
            "台 53\n",
            "外 54\n",
            "常 55\n",
            "跟 56\n",
            "導 57\n",
            "航 58\n",
            "轉 59\n",
            "以 60\n",
            "久 61\n",
            "慢 62\n",
            "使 63\n",
            "充 64\n",
            "電 65\n",
            "蠻 66\n",
            "定 67\n",
            "器 68\n",
            "流 69\n",
            "媒 70\n",
            "體 71\n",
            "清 72\n",
            "楚 73\n",
            "最 74\n",
            "近 75\n",
            "畫 76\n",
            "之 77\n",
            "也 78\n",
            "遇 79\n",
            "問 80\n",
            "題 81\n",
            "頭 82\n",
            "斷 83\n",
            "拉 84\n",
            "注 85\n",
            "麻 86\n",
            "煩 87\n",
            "種 88\n",
            "望 89\n",
            "遠 90\n",
            "拍 91\n",
            "新 92\n",
            "出 93\n",
            "損 94\n",
            "壞 95\n",
            "語 96\n",
            "音 97\n",
            "停 98\n",
            "止 99\n",
            "重 100\n",
            "知 101\n",
            "道 102\n",
            "含 103\n",
            "夜 104\n",
            "光 105\n",
            "六 106\n",
            "月 107\n",
            "家 108\n",
            "裡 109\n",
            "老 110\n",
            "目 111\n",
            "正 112\n",
            "便 113\n",
            "宜 114\n",
            "選 115\n",
            "擇 116\n",
            "你 117\n",
            "說 118\n",
            "廢 119\n",
            "渣 120\n",
            "能 121\n",
            "顯 122\n",
            "示 123\n",
            "左 124\n",
            "右 125\n",
            "和 126\n",
            "路 127\n",
            "名 128\n",
            "放 129\n",
            "像 130\n",
            "深 131\n",
            "灰 132\n",
            "色 133\n",
            "變 134\n",
            "淡 135\n",
            "點 136\n",
            "快 137\n",
            "五 138\n",
            "持 139\n",
            "續 140\n",
            "中 141\n",
            "覺 142\n",
            "得 143\n",
            "吋 144\n",
            "包 145\n",
            "超 146\n",
            "十 147\n",
            "滿 148\n",
            "人 149\n",
            "頗 150\n",
            "推 151\n",
            "牌 152\n",
            "子 153\n",
            "看 154\n",
            "耐 155\n",
            "折 156\n",
            "約 157\n",
            "呀 158\n",
            "剛 159\n",
            "因 160\n",
            "為 161\n",
            "三 162\n",
            "插 163\n",
            "槽 164\n",
            "感 165\n",
            "算 166\n",
            "平 167\n",
            "接 168\n",
            "螢 169\n",
            "幕 170\n",
            "熱 171\n",
            "但 172\n",
            "至 173\n",
            "於 174\n",
            "燙 175\n",
            "影 176\n",
            "響 177\n"
          ]
        }
      ]
    },
    {
      "cell_type": "code",
      "source": [
        "sorted_char = {char: i for i, char in enumerate(egg, 1)}"
      ],
      "metadata": {
        "id": "iP4hiCTh7BKJ"
      },
      "execution_count": null,
      "outputs": []
    },
    {
      "cell_type": "code",
      "source": [
        "sorted_char['的']"
      ],
      "metadata": {
        "colab": {
          "base_uri": "https://localhost:8080/"
        },
        "id": "wZLgYQQH7QN0",
        "outputId": "b2ed1005-a774-40ee-838e-92d082303837"
      },
      "execution_count": null,
      "outputs": [
        {
          "output_type": "execute_result",
          "data": {
            "text/plain": [
              "2"
            ]
          },
          "metadata": {},
          "execution_count": 44
        }
      ]
    },
    {
      "cell_type": "code",
      "source": [
        "sorted_char[\" \"] = 0"
      ],
      "metadata": {
        "id": "vGwuUHMM7dVJ"
      },
      "execution_count": null,
      "outputs": []
    },
    {
      "cell_type": "markdown",
      "source": [
        "把一句話用編碼顯示"
      ],
      "metadata": {
        "id": "4lzsYL6Z8J3F"
      }
    },
    {
      "cell_type": "code",
      "source": [
        "X"
      ],
      "metadata": {
        "colab": {
          "base_uri": "https://localhost:8080/",
          "height": 35
        },
        "id": "9Jcq4FkQ72gd",
        "outputId": "fdab519e-aa92-42a6-ea2f-54824611cd74"
      },
      "execution_count": null,
      "outputs": [
        {
          "output_type": "execute_result",
          "data": {
            "text/plain": [
              "'後鏡頭一直斷線 拉線要很注意 很麻煩'"
            ],
            "application/vnd.google.colaboratory.intrinsic+json": {
              "type": "string"
            }
          },
          "metadata": {},
          "execution_count": 46
        }
      ]
    },
    {
      "cell_type": "code",
      "source": [
        "list(map(lambda char:sorted_char[char], X))"
      ],
      "metadata": {
        "colab": {
          "base_uri": "https://localhost:8080/"
        },
        "id": "PFOSaeFb8JPC",
        "outputId": "eb7e2aa8-f19d-443f-c0d0-32be67960279"
      },
      "execution_count": null,
      "outputs": [
        {
          "output_type": "execute_result",
          "data": {
            "text/plain": [
              "[6, 26, 82, 7, 45, 83, 46, 0, 84, 46, 5, 8, 85, 47, 0, 8, 86, 87]"
            ]
          },
          "metadata": {},
          "execution_count": 47
        }
      ]
    },
    {
      "cell_type": "code",
      "source": [
        "x = []\n",
        "\n",
        "for review in x_tmp:\n",
        "    record = list(map(lambda char:sorted_char[char], review))\n",
        "    x.append(record)"
      ],
      "metadata": {
        "id": "zMs78EVIDreN"
      },
      "execution_count": null,
      "outputs": []
    },
    {
      "cell_type": "code",
      "source": [
        "y = df[\"正負評\"].values\n",
        "y"
      ],
      "metadata": {
        "colab": {
          "base_uri": "https://localhost:8080/"
        },
        "id": "xqTGdeBoEB6r",
        "outputId": "bb0880c0-4bce-42ad-94a7-927dbd3445b1"
      },
      "execution_count": null,
      "outputs": [
        {
          "output_type": "execute_result",
          "data": {
            "text/plain": [
              "array([1, 1, 1, 0, 1, 1, 0, 1, 0, 1, 0, 1, 1, 1, 1, 1, 0, 1])"
            ]
          },
          "metadata": {},
          "execution_count": 50
        }
      ]
    }
  ]
}